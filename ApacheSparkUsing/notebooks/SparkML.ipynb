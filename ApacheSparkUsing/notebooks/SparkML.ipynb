{
 "cells": [
  {
   "cell_type": "code",
   "execution_count": 1,
   "metadata": {
    "collapsed": false
   },
   "outputs": [
    {
     "name": "stdout",
     "output_type": "stream",
     "text": [
      "Creating SparkContext as 'sc'\n"
     ]
    },
    {
     "data": {
      "text/html": [
       "<table>\n",
       "<tr><th>ID</th><th>YARN Application ID</th><th>Kind</th><th>State</th><th>Spark UI</th><th>Driver log</th><th>Current session?</th></tr><tr><td>0</td><td>application_1476002500063_0004</td><td>pyspark</td><td>idle</td><td><a target=\"_blank\" href=\"http://hn0-ich-sp.cgtjs32fxvhetggr5454n5hekg.bx.internal.cloudapp.net:8088/proxy/application_1476002500063_0004/\">Link</a></td><td><a target=\"_blank\" href=\"http://10.0.0.7:30060/node/containerlogs/container_1476002500063_0004_01_000001/spark\">Link</a></td><td>✔</td></tr></table>"
      ],
      "text/plain": [
       "<IPython.core.display.HTML object>"
      ]
     },
     "metadata": {},
     "output_type": "display_data"
    },
    {
     "name": "stdout",
     "output_type": "stream",
     "text": [
      "Creating HiveContext as 'sqlContext'\n",
      "SparkContext and HiveContext created. Executing user code ...\n"
     ]
    }
   ],
   "source": [
    "from pyspark.ml import Pipeline\n",
    "from pyspark.ml.classification import LogisticRegression\n",
    "from pyspark.ml.feature import HashingTF, Tokenizer\n",
    "from pyspark.sql import Row\n",
    "from pyspark.sql.functions import UserDefinedFunction\n",
    "from pyspark.sql.types import *"
   ]
  },
  {
   "cell_type": "code",
   "execution_count": 2,
   "metadata": {
    "collapsed": false
   },
   "outputs": [],
   "source": [
    "def csvParse(s):\n",
    "    import csv\n",
    "    from StringIO import StringIO\n",
    "    sio = StringIO(s)\n",
    "    value = csv.reader(sio).next()\n",
    "    sio.close()\n",
    "    return value\n",
    "\n",
    "inspections = sc.textFile('wasb:///HdiSamples/HdiSamples/FoodInspectionData/Food_Inspections1.csv')\\\n",
    "                .map(csvParse)"
   ]
  },
  {
   "cell_type": "markdown",
   "metadata": {},
   "source": [
    "We now have the CSV file as an RDD. Let us retrieve one row from the RDD to understand the schema of the data."
   ]
  },
  {
   "cell_type": "code",
   "execution_count": 3,
   "metadata": {
    "collapsed": false
   },
   "outputs": [
    {
     "name": "stdout",
     "output_type": "stream",
     "text": [
      "[['413707', 'LUNA PARK INC', 'LUNA PARK  DAY CARE', '2049789', \"Children's Services Facility\", 'Risk 1 (High)', '3250 W FOSTER AVE ', 'CHICAGO', 'IL', '60625', '09/21/2010', 'License-Task Force', 'Fail', '24. DISH WASHING FACILITIES: PROPERLY DESIGNED, CONSTRUCTED, MAINTAINED, INSTALLED, LOCATED AND OPERATED - Comments: All dishwashing machines must be of a type that complies with all requirements of the plumbing section of the Municipal Code of Chicago and Rules and Regulation of the Board of Health. OBSEVERD THE 3 COMPARTMENT SINK BACKING UP INTO THE 1ST AND 2ND COMPARTMENT WITH CLEAR WATER AND SLOWLY DRAINING OUT. INST NEED HAVE IT REPAIR. CITATION ISSUED, SERIOUS VIOLATION 7-38-030 H000062369-10 COURT DATE 10-28-10 TIME 1 P.M. ROOM 107 400 W. SURPERIOR. | 36. LIGHTING: REQUIRED MINIMUM FOOT-CANDLES OF LIGHT PROVIDED, FIXTURES SHIELDED - Comments: Shielding to protect against broken glass falling into food shall be provided for all artificial lighting sources in preparation, service, and display facilities. LIGHT SHIELD ARE MISSING UNDER HOOD OF  COOKING EQUIPMENT AND NEED TO REPLACE LIGHT UNDER UNIT. 4 LIGHTS ARE OUT IN THE REAR CHILDREN AREA,IN THE KINDERGARDEN CLASS ROOM. 2 LIGHT ARE OUT EAST REAR, LIGHT FRONT WEST ROOM. NEED TO REPLACE ALL LIGHT THAT ARE NOT WORKING. | 35. WALLS, CEILINGS, ATTACHED EQUIPMENT CONSTRUCTED PER CODE: GOOD REPAIR, SURFACES CLEAN AND DUST-LESS CLEANING METHODS - Comments: The walls and ceilings shall be in good repair and easily cleaned. MISSING CEILING TILES WITH STAINS IN WEST,EAST, IN FRONT AREA WEST, AND BY THE 15MOS AREA. NEED TO BE REPLACED. | 32. FOOD AND NON-FOOD CONTACT SURFACES PROPERLY DESIGNED, CONSTRUCTED AND MAINTAINED - Comments: All food and non-food contact equipment and utensils shall be smooth, easily cleanable, and durable, and shall be in good repair. SPLASH GUARDED ARE NEEDED BY THE EXPOSED HAND SINK IN THE KITCHEN AREA | 34. FLOORS: CONSTRUCTED PER CODE, CLEANED, GOOD REPAIR, COVING INSTALLED, DUST-LESS CLEANING METHODS USED - Comments: The floors shall be constructed per code, be smooth and easily cleaned, and be kept clean and in good repair. INST NEED TO ELEVATE ALL FOOD ITEMS 6INCH OFF THE FLOOR 6 INCH AWAY FORM WALL.  ', '41.97583445690982', '-87.7107455232781', '(41.97583445690982, -87.7107455232781)']]"
     ]
    }
   ],
   "source": [
    "inspections.take(1)"
   ]
  },
  {
   "cell_type": "markdown",
   "metadata": {},
   "source": [
    "The output of the above cell gives us an idea of the schema of the input file; the file includes the name of every establishment, the type of establishment, the address, the data of the inspections, and the location, among other things. Let's select a few columns that will be useful for our predictive analysis and group the results as a dataframe."
   ]
  },
  {
   "cell_type": "code",
   "execution_count": 4,
   "metadata": {
    "collapsed": false
   },
   "outputs": [],
   "source": [
    "schema = StructType([StructField(\"id\", IntegerType(), False), \n",
    "                     StructField(\"name\", StringType(), False), \n",
    "                     StructField(\"results\", StringType(), False), \n",
    "                     StructField(\"violations\", StringType(), True)])\n",
    "\n",
    "df = sqlContext.createDataFrame(inspections.map(lambda l: (int(l[0]), l[1], l[12], l[13])) , schema)\n",
    "df.registerTempTable('CountResults')"
   ]
  },
  {
   "cell_type": "markdown",
   "metadata": {},
   "source": [
    "We now have a *dataframe*, `df` on which we can perform our analysis. We've included 4 columns of interest in the dataframe: **id**, **name**, **results**, and **violations**. Let's get a small sample of the data:"
   ]
  },
  {
   "cell_type": "code",
   "execution_count": 5,
   "metadata": {
    "collapsed": false
   },
   "outputs": [
    {
     "name": "stdout",
     "output_type": "stream",
     "text": [
      "+------+--------------------+-------+--------------------+\n",
      "|    id|                name|results|          violations|\n",
      "+------+--------------------+-------+--------------------+\n",
      "|413707|       LUNA PARK INC|   Fail|24. DISH WASHING ...|\n",
      "|391234|       CAFE SELMARIE|   Fail|2. FACILITIES TO ...|\n",
      "|413751|          MANCHU WOK|   Pass|33. FOOD AND NON-...|\n",
      "|413708|BENCHMARK HOSPITA...|   Pass|                    |\n",
      "|413722|           JJ BURGER|   Pass|                    |\n",
      "+------+--------------------+-------+--------------------+\n",
      "only showing top 5 rows"
     ]
    }
   ],
   "source": [
    "df.show(5)"
   ]
  },
  {
   "cell_type": "markdown",
   "metadata": {},
   "source": [
    "--------\n",
    "\n",
    "Let's start to get a sense of what our dataset contains. For example, what are the different values in the `results` column?"
   ]
  },
  {
   "cell_type": "code",
   "execution_count": 6,
   "metadata": {
    "collapsed": false
   },
   "outputs": [
    {
     "name": "stdout",
     "output_type": "stream",
     "text": [
      "+--------------------+\n",
      "|             results|\n",
      "+--------------------+\n",
      "|                Fail|\n",
      "|Business Not Located|\n",
      "|                Pass|\n",
      "|  Pass w/ Conditions|\n",
      "|     Out of Business|\n",
      "+--------------------+"
     ]
    }
   ],
   "source": [
    "df.select('results').distinct().show()"
   ]
  },
  {
   "cell_type": "markdown",
   "metadata": {},
   "source": [
    "SQL queries using the `%%sql` directive. The `-o countResultsdf` argument will persist the output of the SQL query as a Pandas dataframe, with the name `countResultdf` on the Jupyter server."
   ]
  },
  {
   "cell_type": "code",
   "execution_count": 7,
   "metadata": {
    "collapsed": true
   },
   "outputs": [],
   "source": [
    "%%sql -o count_results_df\n",
    "SELECT results, COUNT(results) AS cnt FROM CountResults GROUP BY results"
   ]
  },
  {
   "cell_type": "markdown",
   "metadata": {},
   "source": [
    "Visualisation with Matplotlib"
   ]
  },
  {
   "cell_type": "code",
   "execution_count": 8,
   "metadata": {
    "collapsed": false
   },
   "outputs": [
    {
     "data": {
      "text/plain": [
       "(-1.0037249071477896,\n",
       " 1.0000000008708374,\n",
       " -1.009764597229811,\n",
       " 1.0028426768999037)"
      ]
     },
     "execution_count": 8,
     "metadata": {},
     "output_type": "execute_result"
    },
    {
     "data": {
      "image/png": "[encoded data removed]",
      "text/plain": [
       "<matplotlib.figure.Figure at 0x7ff5da2a1510>"
      ]
     },
     "metadata": {},
     "output_type": "display_data"
    }
   ],
   "source": [
    "%%local\n",
    "%matplotlib inline\n",
    "import matplotlib.pyplot as plt\n",
    "\n",
    "\n",
    "labels = count_results_df['results']\n",
    "sizes = count_results_df['cnt']\n",
    "colors = ['turquoise', 'seagreen', 'mediumslateblue', 'palegreen', 'coral']\n",
    "plt.pie(sizes, labels=labels, autopct='%1.1f%%', colors=colors)\n",
    "plt.axis('equal')"
   ]
  },
  {
   "cell_type": "code",
   "execution_count": 9,
   "metadata": {
    "collapsed": false
   },
   "outputs": [],
   "source": [
    "def labelForResults(s):\n",
    "    if s == 'Fail':\n",
    "        return 0.0\n",
    "    elif s == 'Pass w/ Conditions' or s == 'Pass':\n",
    "        return 1.0\n",
    "    else:\n",
    "        return -1.0\n",
    "label = UserDefinedFunction(labelForResults, DoubleType())\n",
    "labeledData = df.select(label(df.results).alias('label'), df.violations).where('label >= 0')"
   ]
  },
  {
   "cell_type": "markdown",
   "metadata": {},
   "source": [
    "Let's retrieve one row from the labeled data to see what it looks like."
   ]
  },
  {
   "cell_type": "code",
   "execution_count": 10,
   "metadata": {
    "collapsed": false
   },
   "outputs": [
    {
     "name": "stdout",
     "output_type": "stream",
     "text": [
      "[Row(label=0.0, violations=u'24. DISH WASHING FACILITIES: PROPERLY DESIGNED, CONSTRUCTED, MAINTAINED, INSTALLED, LOCATED AND OPERATED - Comments: All dishwashing machines must be of a type that complies with all requirements of the plumbing section of the Municipal Code of Chicago and Rules and Regulation of the Board of Health. OBSEVERD THE 3 COMPARTMENT SINK BACKING UP INTO THE 1ST AND 2ND COMPARTMENT WITH CLEAR WATER AND SLOWLY DRAINING OUT. INST NEED HAVE IT REPAIR. CITATION ISSUED, SERIOUS VIOLATION 7-38-030 H000062369-10 COURT DATE 10-28-10 TIME 1 P.M. ROOM 107 400 W. SURPERIOR. | 36. LIGHTING: REQUIRED MINIMUM FOOT-CANDLES OF LIGHT PROVIDED, FIXTURES SHIELDED - Comments: Shielding to protect against broken glass falling into food shall be provided for all artificial lighting sources in preparation, service, and display facilities. LIGHT SHIELD ARE MISSING UNDER HOOD OF  COOKING EQUIPMENT AND NEED TO REPLACE LIGHT UNDER UNIT. 4 LIGHTS ARE OUT IN THE REAR CHILDREN AREA,IN THE KINDERGARDEN CLASS ROOM. 2 LIGHT ARE OUT EAST REAR, LIGHT FRONT WEST ROOM. NEED TO REPLACE ALL LIGHT THAT ARE NOT WORKING. | 35. WALLS, CEILINGS, ATTACHED EQUIPMENT CONSTRUCTED PER CODE: GOOD REPAIR, SURFACES CLEAN AND DUST-LESS CLEANING METHODS - Comments: The walls and ceilings shall be in good repair and easily cleaned. MISSING CEILING TILES WITH STAINS IN WEST,EAST, IN FRONT AREA WEST, AND BY THE 15MOS AREA. NEED TO BE REPLACED. | 32. FOOD AND NON-FOOD CONTACT SURFACES PROPERLY DESIGNED, CONSTRUCTED AND MAINTAINED - Comments: All food and non-food contact equipment and utensils shall be smooth, easily cleanable, and durable, and shall be in good repair. SPLASH GUARDED ARE NEEDED BY THE EXPOSED HAND SINK IN THE KITCHEN AREA | 34. FLOORS: CONSTRUCTED PER CODE, CLEANED, GOOD REPAIR, COVING INSTALLED, DUST-LESS CLEANING METHODS USED - Comments: The floors shall be constructed per code, be smooth and easily cleaned, and be kept clean and in good repair. INST NEED TO ELEVATE ALL FOOD ITEMS 6INCH OFF THE FLOOR 6 INCH AWAY FORM WALL.  ')]"
     ]
    }
   ],
   "source": [
    "labeledData.take(1)"
   ]
  },
  {
   "cell_type": "markdown",
   "metadata": {},
   "source": [
    "---------\n",
    "\n",
    "## Logistic regression model from the input dataframe\n"
   ]
  },
  {
   "cell_type": "code",
   "execution_count": 11,
   "metadata": {
    "collapsed": false
   },
   "outputs": [
    {
     "name": "stdout",
     "output_type": "stream",
     "text": [
      "PipelineModel_4ef9a754a12ba25744d9"
     ]
    }
   ],
   "source": [
    "tokenizer = Tokenizer(inputCol=\"violations\", outputCol=\"words\")\n",
    "hashingTF = HashingTF(inputCol=tokenizer.getOutputCol(), outputCol=\"features\")\n",
    "lr = LogisticRegression(maxIter=10, regParam=0.01)\n",
    "pipeline = Pipeline(stages=[tokenizer, hashingTF, lr])\n",
    "\n",
    "model = pipeline.fit(labeledData)\n",
    "model"
   ]
  },
  {
   "cell_type": "markdown",
   "metadata": {},
   "source": [
    "We now have a trained logistic regression model to classify input data. "
   ]
  },
  {
   "cell_type": "markdown",
   "metadata": {
    "collapsed": false
   },
   "source": [
    "-----------\n",
    "\n",
    "## Evaluate the model on a separate test dataset\n"
   ]
  },
  {
   "cell_type": "code",
   "execution_count": 12,
   "metadata": {
    "collapsed": false,
    "scrolled": true
   },
   "outputs": [
    {
     "name": "stdout",
     "output_type": "stream",
     "text": [
      "['id', 'name', 'results', 'violations', 'words', 'features', 'rawPrediction', 'probability', 'prediction']\n",
      "/usr/hdp/current/spark-client/python/pyspark/ml/classification.py:207: UserWarning: weights is deprecated. Use coefficients instead.\n",
      "  warnings.warn(\"weights is deprecated. Use coefficients instead.\")"
     ]
    }
   ],
   "source": [
    "testData = sc.textFile('wasb:///HdiSamples/HdiSamples/FoodInspectionData/Food_Inspections2.csv')\\\n",
    "             .map(csvParse) \\\n",
    "             .map(lambda l: (int(l[0]), l[1], l[12], l[13]))\n",
    "testDf = sqlContext.createDataFrame(testData, schema).where(\"results = 'Fail' OR results = 'Pass' OR results = 'Pass w/ Conditions'\")\n",
    "predictionsDf = model.transform(testDf)\n",
    "predictionsDf.registerTempTable('Predictions')\n",
    "predictionsDf.columns"
   ]
  },
  {
   "cell_type": "markdown",
   "metadata": {},
   "source": [
    "Firs row of the result"
   ]
  },
  {
   "cell_type": "code",
   "execution_count": 13,
   "metadata": {
    "collapsed": false
   },
   "outputs": [
    {
     "name": "stdout",
     "output_type": "stream",
     "text": [
      "[Row(id=580320, name=u\"COUSIN'S GRILL\", results=u'Fail', violations=u'37. TOILET ROOM DOORS SELF CLOSING: DRESSING ROOMS WITH LOCKERS PROVIDED: COMPLETE SEPARATION FROM LIVING/SLEEPING QUARTERS - Comments: INSTRUCTED TO FIX BROKEN SELF CLOSING DEVICE AT WASHROOM DOOR. | 40. REFRIGERATION AND METAL STEM THERMOMETERS PROVIDED AND CONSPICUOUS - Comments: All food establishments that display, prepare, or store potentially hazardous foods shall have calibrated metal stem thermometers, provided and conspicuous, for refrigerated and hot food units.  INSTRUCTED TO PROVIDE THERMOMETTER VISIBLE INSIDE ALL COOLERS. | 36. LIGHTING: REQUIRED MINIMUM FOOT-CANDLES OF LIGHT PROVIDED, FIXTURES SHIELDED - Comments: Shielding to protect against broken glass falling into food shall be provided for all artificial lighting sources in preparation, service, and display facilities.  LIGHTBULBS MUST BE SHIELDED INSIDE HOT HOLDING DISPLAY UNIT OR PROVIDE SHATTERFROOFED LIGHTBULB.   | 18. NO EVIDENCE OF RODENT OR INSECT OUTER OPENINGS PROTECTED/RODENT PROOFED, A WRITTEN LOG SHALL BE MAINTAINED AVAILABLE TO THE INSPECTORS - Comments: All necessary control measures shall be used to effectively minimize or eliminate the presence of rodents, roaches, and other vermin and insects on the premises of all food establishments, in food-transporting vehicles, and in vending machines.  FOUND FRONT ENTRANCE DOOR NOT RODENT PROOFED. NOTED 1/2 INCH GAP/OPENING AT THE BOTTOM DOOR. INSTRUCTED TO RODENT-PROOFED BOTTOM OF THE SAID DOOR. SERIOUS CITATION ISSUED 7-38-020 | 41. PREMISES MAINTAINED FREE OF LITTER, UNNECESSARY ARTICLES, CLEANING  EQUIPMENT PROPERLY STORED - Comments: All parts of the food establishment and all parts of the property used in connection with the operation of the establishment shall be kept neat and clean and should not produce any offensive odors.  INSTRUCTED TO CLEAN AND MAINTAIN REAR OUTSIDE AREA.', words=[u'37.', u'toilet', u'room', u'doors', u'self', u'closing:', u'dressing', u'rooms', u'with', u'lockers', u'provided:', u'complete', u'separation', u'from', u'living/sleeping', u'quarters', u'-', u'comments:', u'instructed', u'to', u'fix', u'broken', u'self', u'closing', u'device', u'at', u'washroom', u'door.', u'|', u'40.', u'refrigeration', u'and', u'metal', u'stem', u'thermometers', u'provided', u'and', u'conspicuous', u'-', u'comments:', u'all', u'food', u'establishments', u'that', u'display,', u'prepare,', u'or', u'store', u'potentially', u'hazardous', u'foods', u'shall', u'have', u'calibrated', u'metal', u'stem', u'thermometers,', u'provided', u'and', u'conspicuous,', u'for', u'refrigerated', u'and', u'hot', u'food', u'units.', u'', u'instructed', u'to', u'provide', u'thermometter', u'visible', u'inside', u'all', u'coolers.', u'|', u'36.', u'lighting:', u'required', u'minimum', u'foot-candles', u'of', u'light', u'provided,', u'fixtures', u'shielded', u'-', u'comments:', u'shielding', u'to', u'protect', u'against', u'broken', u'glass', u'falling', u'into', u'food', u'shall', u'be', u'provided', u'for', u'all', u'artificial', u'lighting', u'sources', u'in', u'preparation,', u'service,', u'and', u'display', u'facilities.', u'', u'lightbulbs', u'must', u'be', u'shielded', u'inside', u'hot', u'holding', u'display', u'unit', u'or', u'provide', u'shatterfroofed', u'lightbulb.', u'', u'', u'|', u'18.', u'no', u'evidence', u'of', u'rodent', u'or', u'insect', u'outer', u'openings', u'protected/rodent', u'proofed,', u'a', u'written', u'log', u'shall', u'be', u'maintained', u'available', u'to', u'the', u'inspectors', u'-', u'comments:', u'all', u'necessary', u'control', u'measures', u'shall', u'be', u'used', u'to', u'effectively', u'minimize', u'or', u'eliminate', u'the', u'presence', u'of', u'rodents,', u'roaches,', u'and', u'other', u'vermin', u'and', u'insects', u'on', u'the', u'premises', u'of', u'all', u'food', u'establishments,', u'in', u'food-transporting', u'vehicles,', u'and', u'in', u'vending', u'machines.', u'', u'found', u'front', u'entrance', u'door', u'not', u'rodent', u'proofed.', u'noted', u'1/2', u'inch', u'gap/opening', u'at', u'the', u'bottom', u'door.', u'instructed', u'to', u'rodent-proofed', u'bottom', u'of', u'the', u'said', u'door.', u'serious', u'citation', u'issued', u'7-38-020', u'|', u'41.', u'premises', u'maintained', u'free', u'of', u'litter,', u'unnecessary', u'articles,', u'cleaning', u'', u'equipment', u'properly', u'stored', u'-', u'comments:', u'all', u'parts', u'of', u'the', u'food', u'establishment', u'and', u'all', u'parts', u'of', u'the', u'property', u'used', u'in', u'connection', u'with', u'the', u'operation', u'of', u'the', u'establishment', u'shall', u'be', u'kept', u'neat', u'and', u'clean', u'and', u'should', u'not', u'produce', u'any', u'offensive', u'odors.', u'', u'instructed', u'to', u'clean', u'and', u'maintain', u'rear', u'outside', u'area.'], features=SparseVector(262144, {0: 7.0, 45: 5.0, 97: 1.0, 124: 4.0, 1507: 3.0, 1961: 1.0, 1963: 1.0, 3123: 2.0, 3139: 5.0, 3166: 5.0, 3365: 4.0, 3521: 1.0, 3543: 9.0, 3551: 1.0, 3555: 4.0, 3707: 7.0, 5740: 1.0, 6058: 1.0, 6880: 2.0, 7854: 1.0, 8471: 1.0, 9123: 1.0, 12109: 1.0, 12379: 1.0, 15173: 1.0, 15915: 1.0, 16705: 1.0, 17164: 1.0, 22767: 1.0, 22836: 1.0, 25122: 1.0, 25643: 1.0, 26120: 1.0, 30778: 1.0, 32478: 1.0, 33349: 1.0, 38863: 1.0, 39864: 1.0, 44026: 1.0, 44149: 1.0, 45895: 1.0, 46761: 1.0, 46775: 1.0, 48596: 1.0, 48871: 1.0, 49384: 1.0, 49512: 1.0, 49905: 1.0, 50731: 1.0, 50762: 1.0, 51506: 1.0, 51537: 1.0, 53244: 2.0, 53415: 1.0, 54233: 1.0, 54991: 1.0, 60191: 1.0, 62594: 2.0, 69085: 1.0, 69465: 4.0, 69655: 1.0, 71874: 2.0, 76703: 1.0, 78137: 1.0, 80421: 1.0, 83568: 1.0, 83581: 1.0, 83850: 1.0, 85804: 5.0, 86265: 1.0, 86592: 3.0, 86661: 1.0, 86749: 1.0, 87579: 1.0, 88484: 1.0, 89250: 1.0, 90647: 2.0, 91210: 1.0, 91744: 1.0, 94801: 1.0, 95631: 1.0, 96213: 2.0, 96673: 7.0, 96727: 12.0, 96748: 1.0, 98261: 1.0, 98523: 1.0, 99624: 1.0, 101065: 1.0, 101397: 1.0, 101577: 2.0, 103501: 2.0, 104322: 1.0, 105003: 2.0, 107332: 1.0, 109267: 2.0, 110620: 1.0, 112011: 1.0, 112201: 2.0, 113279: 1.0, 114665: 1.0, 114801: 9.0, 117984: 1.0, 118433: 2.0, 118604: 2.0, 122077: 1.0, 122325: 1.0, 126237: 1.0, 127090: 1.0, 128456: 2.0, 128676: 1.0, 130986: 1.0, 132809: 2.0, 132988: 1.0, 133863: 1.0, 142432: 1.0, 142558: 1.0, 149150: 1.0, 150151: 1.0, 150951: 1.0, 151218: 1.0, 154805: 1.0, 158068: 1.0, 163600: 1.0, 166236: 1.0, 166582: 1.0, 166762: 2.0, 169631: 1.0, 170744: 1.0, 181058: 1.0, 185703: 1.0, 186756: 1.0, 187945: 1.0, 188732: 1.0, 191421: 2.0, 194243: 1.0, 194785: 1.0, 198139: 1.0, 198357: 1.0, 202163: 1.0, 202575: 1.0, 203226: 1.0, 204374: 1.0, 204923: 1.0, 205742: 1.0, 205916: 1.0, 208333: 1.0, 210198: 1.0, 210341: 1.0, 215699: 1.0, 217609: 1.0, 220299: 1.0, 222022: 1.0, 222422: 1.0, 222557: 1.0, 225963: 1.0, 230993: 1.0, 231466: 1.0, 233486: 1.0, 234501: 1.0, 236379: 1.0, 236795: 1.0, 237143: 1.0, 239044: 2.0, 239477: 1.0, 240391: 2.0, 241862: 2.0, 243213: 1.0, 249419: 1.0, 254150: 5.0, 255374: 1.0, 256449: 1.0}), rawPrediction=DenseVector([3.6408, -3.6408]), probability=DenseVector([0.9744, 0.0256]), prediction=0.0)]"
     ]
    }
   ],
   "source": [
    "predictionsDf.take(1)"
   ]
  },
  {
   "cell_type": "code",
   "execution_count": 14,
   "metadata": {
    "collapsed": false
   },
   "outputs": [
    {
     "name": "stdout",
     "output_type": "stream",
     "text": [
      "There were 9315 inspections and there were 8087 successful predictions\n",
      "This is a 86.8169618894% success rate"
     ]
    }
   ],
   "source": [
    "numSuccesses = predictionsDf.where(\"\"\"(prediction = 0 AND results = 'Fail') OR \n",
    "                                      (prediction = 1 AND (results = 'Pass' OR \n",
    "                                                           results = 'Pass w/ Conditions'))\"\"\").count()\n",
    "numInspections = predictionsDf.count()\n",
    "\n",
    "print \"There were\", numInspections, \"inspections and there were\", numSuccesses, \"successful predictions\"\n",
    "print \"This is a\", str((float(numSuccesses) / float(numInspections)) * 100) + \"%\", \"success rate\""
   ]
  },
  {
   "cell_type": "code",
   "execution_count": 15,
   "metadata": {
    "collapsed": false
   },
   "outputs": [],
   "source": [
    "%%sql -q -o true_positive\n",
    "SELECT count(*) AS cnt FROM Predictions WHERE prediction = 0 AND results = 'Fail'"
   ]
  },
  {
   "cell_type": "code",
   "execution_count": 16,
   "metadata": {
    "collapsed": true
   },
   "outputs": [],
   "source": [
    "%%sql -q -o false_positive\n",
    "SELECT count(*) AS cnt FROM Predictions WHERE prediction = 0 AND (results = 'Pass' OR results = 'Pass w/ Conditions')"
   ]
  },
  {
   "cell_type": "code",
   "execution_count": 17,
   "metadata": {
    "collapsed": true
   },
   "outputs": [],
   "source": [
    "%%sql -q -o true_negative\n",
    "SELECT count(*) AS cnt FROM Predictions WHERE prediction = 1 AND results = 'Fail' "
   ]
  },
  {
   "cell_type": "code",
   "execution_count": 18,
   "metadata": {
    "collapsed": true
   },
   "outputs": [],
   "source": [
    "%%sql -q -o false_negative\n",
    "SELECT count(*) AS cnt FROM Predictions WHERE prediction = 1 AND (results = 'Pass' OR results = 'Pass w/ Conditions')"
   ]
  },
  {
   "cell_type": "markdown",
   "metadata": {},
   "source": [
    "Finally, we use these quantities to construct a visualization with **Matplotlib**:"
   ]
  },
  {
   "cell_type": "code",
   "execution_count": 20,
   "metadata": {
    "collapsed": false
   },
   "outputs": [
    {
     "data": {
      "text/plain": [
       "(-1.0179134607315063, 1.0, -1.0163244009017944, 1.0025763511657715)"
      ]
     },
     "execution_count": 20,
     "metadata": {},
     "output_type": "execute_result"
    },
    {
     "data": {
      "image/png": "[encoded data removed]",
      "text/plain": [
       "<matplotlib.figure.Figure at 0x7ff5d90fe690>"
      ]
     },
     "metadata": {},
     "output_type": "display_data"
    }
   ],
   "source": [
    "%%local\n",
    "%matplotlib inline\n",
    "import matplotlib.pyplot as plt\n",
    "\n",
    "labels = ['True positive', 'False positive', 'False negative', 'True negative']\n",
    "sizes = [true_positive['cnt'], false_positive['cnt'], false_negative['cnt'], true_negative['cnt']]\n",
    "colors = ['turquoise', 'seagreen', 'mediumslateblue', 'palegreen', 'coral']\n",
    "plt.pie(sizes, labels=labels, autopct='%1.1f%%', colors=colors)\n",
    "plt.axis('equal')"
   ]
  }
 ],
 "metadata": {
  "anaconda-cloud": {},
  "kernelspec": {
   "display_name": "PySpark",
   "language": "",
   "name": "pysparkkernel"
  },
  "language_info": {
   "codemirror_mode": {
    "name": "python"
   },
   "mimetype": "text/x-python",
   "name": "pyspark",
   "pygments_lexer": "python2"
  },
  "widgets": {
   "state": {
    "167ae9f3474f4c489e5bd52956f1cbfb": {
     "views": [
      {
       "cell_index": 14
      }
     ]
    },
    "265611162938481ba55411c5f2a3cee7": {
     "views": [
      {
       "cell_index": 14
      }
     ]
    }
   },
   "version": "1.2.0"
  }
 },
 "nbformat": 4,
 "nbformat_minor": 0
}
